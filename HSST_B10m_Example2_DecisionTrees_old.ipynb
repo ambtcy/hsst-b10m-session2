{
 "cells": [
  {
   "cell_type": "code",
   "execution_count": null,
   "id": "70ea2730",
   "metadata": {},
   "outputs": [],
   "source": [
    "import numpy as np\n",
    "from numpy import pi\n",
    "import matplotlib.pyplot as plt\n",
    "from sklearn.model_selection import cross_val_score\n",
    "from sklearn.tree import DecisionTreeClassifier, plot_tree\n",
    "from sklearn.inspection import DecisionBoundaryDisplay"
   ]
  },
  {
   "cell_type": "code",
   "execution_count": null,
   "id": "ccb89129",
   "metadata": {},
   "outputs": [],
   "source": [
    "# generate spiral data (see https://gist.github.com/45deg/e731d9e7f478de134def5668324c44c5)\n",
    "N = 200\n",
    "theta = np.sqrt(np.random.rand(N))*2*pi # np.linspace(0,2*pi,100)\n",
    "\n",
    "r_a = 2*theta + pi\n",
    "data_a = np.array([np.cos(theta)*r_a, np.sin(theta)*r_a]).T\n",
    "x_a = data_a + np.random.randn(N,2)\n",
    "\n",
    "r_b = -2*theta - pi\n",
    "data_b = np.array([np.cos(theta)*r_b, np.sin(theta)*r_b]).T\n",
    "x_b = data_b + np.random.randn(N,2)\n",
    "\n",
    "res_a = np.append(x_a, np.zeros((N,1)), axis=1)\n",
    "res_b = np.append(x_b, np.ones((N,1)), axis=1)\n",
    "\n",
    "res = np.append(res_a, res_b, axis=0)\n",
    "np.random.shuffle(res)\n",
    "\n",
    "plt.scatter(x_a[:,0],x_a[:,1])\n",
    "plt.scatter(x_b[:,0],x_b[:,1])\n",
    "X=np.r_[x_a,x_b]\n",
    "y=np.r_[np.zeros(N),np.ones(N)]\n",
    "print(\"Input data\")\n",
    "plt.show()"
   ]
  },
  {
   "cell_type": "code",
   "execution_count": null,
   "id": "98c65e81",
   "metadata": {},
   "outputs": [],
   "source": [
    "clf = DecisionTreeClassifier(random_state=0)\n",
    "print(\"10 fold cross validation\")\n",
    "print(cross_val_score(clf, X,y, cv=10))\n",
    "\n",
    "print(\"Decision Tree\")\n",
    "clf = clf.fit(X,y)\n",
    "plt.figure(figsize=(15,15))\n",
    "plot_tree(clf)\n",
    "plt.show()\n",
    "\n",
    "print(\"Decision Boundary Plot\")\n",
    "feature_1, feature_2 = np.meshgrid(\n",
    "    np.linspace(X[:, 0].min(), X[:, 0].max()),\n",
    "    np.linspace(X[:, 1].min(), X[:, 1].max())\n",
    ")\n",
    "grid = np.vstack([feature_1.ravel(), feature_2.ravel()]).T\n",
    "tree = DecisionTreeClassifier().fit(X,y)\n",
    "y_pred = np.reshape(tree.predict(grid), feature_1.shape)\n",
    "display = DecisionBoundaryDisplay(\n",
    "    xx0=feature_1, xx1=feature_2, response=y_pred\n",
    ")\n",
    "display.plot(alpha=0.5, cmap=\"plasma\")\n",
    "display.ax_.scatter(\n",
    "    X[:, 0], X[:, 1], c=y, edgecolor=\"black\"\n",
    ")\n",
    "plt.show()"
   ]
  }
 ],
 "metadata": {
  "kernelspec": {
   "display_name": "Python 3 (2023)",
   "language": "python",
   "name": "python3-2023"
  },
  "language_info": {
   "codemirror_mode": {
    "name": "ipython",
    "version": 3
   },
   "file_extension": ".py",
   "mimetype": "text/x-python",
   "name": "python",
   "nbconvert_exporter": "python",
   "pygments_lexer": "ipython3",
   "version": "3.6.8"
  }
 },
 "nbformat": 4,
 "nbformat_minor": 5
}
